{
 "cells": [
  {
   "cell_type": "markdown",
   "id": "7d51c3b8-f516-47b5-8064-58e57b82e7a2",
   "metadata": {},
   "source": [
    "## Import necessary libraries"
   ]
  },
  {
   "cell_type": "code",
   "execution_count": null,
   "id": "fb3fc373-030e-4a82-ad55-f688fbeaf4ed",
   "metadata": {},
   "outputs": [],
   "source": [
    "import pandas as pd\n",
    "import numpy as np\n",
    "import seaborn as sns\n",
    "import matplotlib.pyplot as plt\n",
    "from sklearn.preprocessing import StandardScaler, OneHotEncoder\n",
    "from sklearn.compose import ColumnTransformer\n",
    "from sklearn.pipeline import Pipeline\n",
    "from sklearn.linear_model import LinearRegression, Ridge, Lasso\n",
    "from sklearn.metrics import mean_squared_error, r2_score\n",
    "from sklearn.model_selection import train_test_split\n",
    "from sklearn.neighbors import KNeighborsRegressor\n",
    "from sklearn.tree import DecisionTreeRegressor\n",
    "from sklearn.ensemble import RandomForestRegressor, GradientBoostingRegressor, AdaBoostRegressor\n",
    "from xgboost import XGBRegressor\n",
    "from sklearn.svm import SVC"
   ]
  },
  {
   "cell_type": "markdown",
   "id": "7db00a71-51be-43ac-9b0b-29c5dcf785ac",
   "metadata": {},
   "source": [
    "## Load the dataset"
   ]
  },
  {
   "cell_type": "code",
   "execution_count": null,
   "id": "17b7c8a0-e0f9-4012-ac91-7681d4151398",
   "metadata": {},
   "outputs": [],
   "source": [
    "data = pd.read_csv('C:/Users/91700/OneDrive/Desktop/SARTHAK/Project UM/Datas/laptop_prices.csv')"
   ]
  },
  {
   "cell_type": "markdown",
   "id": "8081ba65-8bb6-49b8-954e-aa1d486022c6",
   "metadata": {},
   "source": [
    "## Information Related to Data"
   ]
  },
  {
   "cell_type": "code",
   "execution_count": null,
   "id": "9c9067db-cfe5-472c-b38f-7ccba57473b0",
   "metadata": {},
   "outputs": [],
   "source": [
    "data.head()"
   ]
  },
  {
   "cell_type": "code",
   "execution_count": null,
   "id": "ee4631ef-46e3-400d-ad9e-770f46a099c1",
   "metadata": {},
   "outputs": [],
   "source": [
    "data.shape"
   ]
  },
  {
   "cell_type": "code",
   "execution_count": null,
   "id": "22beec2e-d1e2-4464-825b-95f07d7af22e",
   "metadata": {},
   "outputs": [],
   "source": [
    "data.describe()"
   ]
  },
  {
   "cell_type": "code",
   "execution_count": null,
   "id": "6c25281e-ecd9-4ccd-b4f1-68ae3342d568",
   "metadata": {},
   "outputs": [],
   "source": [
    "data.info()"
   ]
  },
  {
   "cell_type": "code",
   "execution_count": null,
   "id": "7171bf74-35c2-416c-9ef2-f808dd23a9a1",
   "metadata": {},
   "outputs": [],
   "source": [
    "data.isnull().sum()"
   ]
  },
  {
   "cell_type": "code",
   "execution_count": null,
   "id": "5324701c-8eac-44c8-a5d5-b917dfe77a91",
   "metadata": {},
   "outputs": [],
   "source": [
    "data.corr(numeric_only = True)"
   ]
  },
  {
   "cell_type": "code",
   "execution_count": null,
   "id": "1335bbcd-d5f7-4cf9-b4d3-35a7ab90e2ab",
   "metadata": {},
   "outputs": [],
   "source": [
    "data.corr(numeric_only = True)['Price_euros']"
   ]
  },
  {
   "cell_type": "code",
   "execution_count": null,
   "id": "6245d94e-b1a8-4ea1-9163-d8b9fff8400c",
   "metadata": {},
   "outputs": [],
   "source": [
    "sns.heatmap(data.corr(numeric_only = True))"
   ]
  },
  {
   "cell_type": "markdown",
   "id": "4a80ae15-bd74-4e0e-b14a-61d4ed2d7a00",
   "metadata": {},
   "source": [
    "##  Exploratory Data Analysis"
   ]
  },
  {
   "cell_type": "code",
   "execution_count": null,
   "id": "1df04a23-cd74-4231-a0bc-4a61ed5b6d66",
   "metadata": {},
   "outputs": [],
   "source": [
    "data['Company'].value_counts()"
   ]
  },
  {
   "cell_type": "code",
   "execution_count": null,
   "id": "3786a9a7-b682-462c-bd3e-890c3c644dc9",
   "metadata": {},
   "outputs": [],
   "source": [
    "# data['Company'].value_counts().plot(kind='bar')\n",
    "\n",
    "sns.countplot(x='Company', data=data, legend='auto')\n",
    "\n",
    "# Rotate x-axis labels to be vertical\n",
    "plt.xticks(rotation=90)\n",
    "\n",
    "# Show the plot\n",
    "plt.show()"
   ]
  },
  {
   "cell_type": "code",
   "execution_count": null,
   "id": "01effa2a-2d53-4684-840a-230bc0af20fa",
   "metadata": {},
   "outputs": [],
   "source": [
    "data['Screen'].value_counts()"
   ]
  },
  {
   "cell_type": "code",
   "execution_count": null,
   "id": "89fe89ac-3049-44bc-8659-96c0d07d46e1",
   "metadata": {},
   "outputs": [],
   "source": [
    "sns.countplot(x='Screen', data=data, legend='auto')\n",
    "\n",
    "# Rotate x-axis labels to be vertical\n",
    "plt.xticks(rotation=90)\n",
    "\n",
    "# Show the plot\n",
    "plt.show()"
   ]
  },
  {
   "cell_type": "code",
   "execution_count": null,
   "id": "496c6322-7afc-468d-8a6a-32c06f51ed50",
   "metadata": {},
   "outputs": [],
   "source": [
    "data['Product'].value_counts()"
   ]
  },
  {
   "cell_type": "code",
   "execution_count": null,
   "id": "6a2cdd9d-0ec2-4ce8-9d9f-daca1510e40e",
   "metadata": {},
   "outputs": [],
   "source": [
    "data['OS'].value_counts()"
   ]
  },
  {
   "cell_type": "code",
   "execution_count": null,
   "id": "cc6ab829-1533-4db8-b8c1-f271ad582be4",
   "metadata": {},
   "outputs": [],
   "source": [
    "sns.countplot(x='OS', data=data, legend='auto')\n",
    "\n",
    "# Rotate x-axis labels to be vertical\n",
    "plt.xticks(rotation=90)\n",
    "\n",
    "# Show the plot\n",
    "plt.show()"
   ]
  },
  {
   "cell_type": "code",
   "execution_count": null,
   "id": "22889c0f-843d-48f7-9afb-0b49d83a2db7",
   "metadata": {},
   "outputs": [],
   "source": [
    "data['TypeName'].value_counts()"
   ]
  },
  {
   "cell_type": "code",
   "execution_count": null,
   "id": "0346dfd8-2ab3-49a4-b3ef-2504c87d4821",
   "metadata": {},
   "outputs": [],
   "source": [
    "data['Ram'].value_counts()"
   ]
  },
  {
   "cell_type": "code",
   "execution_count": null,
   "id": "ada50a10-c98e-4d0a-b0db-75a30526a9e0",
   "metadata": {},
   "outputs": [],
   "source": [
    "sns.countplot(x='Ram', data=data, legend='auto')\n",
    "\n",
    "# Rotate x-axis labels to be vertical\n",
    "plt.xticks(rotation=90)\n",
    "\n",
    "# Show the plot\n",
    "plt.show()"
   ]
  },
  {
   "cell_type": "code",
   "execution_count": null,
   "id": "fbd8e3d2-362a-43e2-98aa-abd2be37db30",
   "metadata": {},
   "outputs": [],
   "source": [
    "data['Inches'].value_counts()"
   ]
  },
  {
   "cell_type": "code",
   "execution_count": null,
   "id": "97e7df4f-5cc1-4878-83d3-c009b505f312",
   "metadata": {},
   "outputs": [],
   "source": [
    "sns.countplot(x='Inches', data=data, legend='auto')\n",
    "\n",
    "# Rotate x-axis labels to be vertical\n",
    "plt.xticks(rotation=90)\n",
    "\n",
    "# Show the plot\n",
    "plt.show()"
   ]
  },
  {
   "cell_type": "code",
   "execution_count": null,
   "id": "bf603d2a-e0ba-4ec4-9e06-a670ad388479",
   "metadata": {},
   "outputs": [],
   "source": [
    "data['Touchscreen'].value_counts()"
   ]
  },
  {
   "cell_type": "code",
   "execution_count": null,
   "id": "426bd395-d7dd-47fb-9d48-3afc72e03323",
   "metadata": {},
   "outputs": [],
   "source": [
    "sns.countplot(x='Touchscreen', data=data, legend='auto', palette='bright' )"
   ]
  },
  {
   "cell_type": "code",
   "execution_count": null,
   "id": "56c336ec-5a8c-4d9b-bef9-070785f0f6bc",
   "metadata": {},
   "outputs": [],
   "source": [
    "data['IPSpanel'].value_counts()"
   ]
  },
  {
   "cell_type": "code",
   "execution_count": null,
   "id": "3b2491e4-463a-4b46-995d-e1ebd28f8f61",
   "metadata": {},
   "outputs": [],
   "source": [
    "sns.countplot(x='IPSpanel', data=data, legend='auto', palette='bright')"
   ]
  },
  {
   "cell_type": "code",
   "execution_count": null,
   "id": "783e7581-e16e-4bbe-81a2-8fe12f417bd0",
   "metadata": {},
   "outputs": [],
   "source": [
    "data['RetinaDisplay'].value_counts()"
   ]
  },
  {
   "cell_type": "code",
   "execution_count": null,
   "id": "5437f8cc-d149-42d0-b776-1ea8243ab4a7",
   "metadata": {},
   "outputs": [],
   "source": [
    "data['CPU_company'].value_counts()"
   ]
  },
  {
   "cell_type": "code",
   "execution_count": null,
   "id": "507bf8e0-9f6a-41e8-bf70-1c1050eac490",
   "metadata": {},
   "outputs": [],
   "source": [
    "# Count the occurrences of each CPU_company\n",
    "CPU_company = data['CPU_company'].value_counts()\n",
    "\n",
    "# Plot pie chart\n",
    "plt.pie(CPU_company, labels=CPU_company.index, autopct='%.2f%%')\n",
    "plt.title(\"CPU_company\")\n",
    "plt.show()"
   ]
  },
  {
   "cell_type": "code",
   "execution_count": null,
   "id": "cea8991a-8f9d-4bfb-827e-d83bc163229a",
   "metadata": {},
   "outputs": [],
   "source": [
    "data['CPU_model'].value_counts()"
   ]
  },
  {
   "cell_type": "code",
   "execution_count": null,
   "id": "ff11ca78-a149-4a13-a185-618851f3431e",
   "metadata": {},
   "outputs": [],
   "source": [
    "data['PrimaryStorageType'].value_counts()"
   ]
  },
  {
   "cell_type": "code",
   "execution_count": null,
   "id": "c399c695-e2e2-4836-9a67-81500582a856",
   "metadata": {},
   "outputs": [],
   "source": [
    "# Count the occurrences of each CPU_company\n",
    "PrimaryStorageType = data['PrimaryStorageType'].value_counts()\n",
    "\n",
    "# Plot pie chart\n",
    "plt.pie(PrimaryStorageType, labels=PrimaryStorageType.index, autopct='%.2f%%')\n",
    "plt.title(\"PrimaryStorageType\")\n",
    "plt.show()"
   ]
  },
  {
   "cell_type": "code",
   "execution_count": null,
   "id": "c5ede331-960a-4015-8666-7662f29b8689",
   "metadata": {},
   "outputs": [],
   "source": [
    "data['SecondaryStorageType'].value_counts()"
   ]
  },
  {
   "cell_type": "code",
   "execution_count": null,
   "id": "90e220ad-b943-48ac-9feb-8ef446d8cf85",
   "metadata": {},
   "outputs": [],
   "source": [
    "sns.countplot(x='SecondaryStorageType', data=data, legend='auto')\n",
    "\n",
    "# Rotate x-axis labels to be vertical\n",
    "plt.xticks(rotation=90)\n",
    "\n",
    "# Show the plot\n",
    "plt.show()"
   ]
  },
  {
   "cell_type": "code",
   "execution_count": null,
   "id": "7b1007a6-33df-4b2d-abe5-b240402da1d3",
   "metadata": {},
   "outputs": [],
   "source": [
    "data['GPU_company'].value_counts()"
   ]
  },
  {
   "cell_type": "code",
   "execution_count": null,
   "id": "5103e012-efa1-4476-90bb-2233a5da5d73",
   "metadata": {},
   "outputs": [],
   "source": [
    "# Count the occurrences of each CPU_company\n",
    "GPU_company = data['GPU_company'].value_counts()\n",
    "\n",
    "# Plot pie chart\n",
    "plt.pie(GPU_company, labels=GPU_company.index, autopct='%.2f%%')\n",
    "plt.title(\"GPU_company\")\n",
    "plt.show()"
   ]
  },
  {
   "cell_type": "code",
   "execution_count": null,
   "id": "c4069cfb-ab31-41e9-b4fc-656c808856c6",
   "metadata": {},
   "outputs": [],
   "source": [
    "data['GPU_model'].value_counts()"
   ]
  },
  {
   "cell_type": "code",
   "execution_count": null,
   "id": "471bf907-7585-4be0-aba4-02edf822cd52",
   "metadata": {},
   "outputs": [],
   "source": []
  },
  {
   "cell_type": "code",
   "execution_count": null,
   "id": "86299ec6-27b0-4c29-9985-80250d30b249",
   "metadata": {},
   "outputs": [],
   "source": [
    "# Plot boxplot\n",
    "sns.boxplot(x=\"OS\", y=\"Price_euros\", data=data, palette=\"bright\")\n",
    "plt.title(\"Boxplot of Laptop Prices by Operating System\")\n",
    "\n",
    "# Rotate x-axis labels to be vertical\n",
    "plt.xticks(rotation=90)\n",
    "\n",
    "# Show the plot\n",
    "plt.show()"
   ]
  },
  {
   "cell_type": "code",
   "execution_count": null,
   "id": "1f42904b-dbe2-49dd-858d-224ff77a54cf",
   "metadata": {},
   "outputs": [],
   "source": [
    "# Plot barplot\n",
    "sns.barplot(x = 'Touchscreen', y = 'Price_euros', hue ='Screen', palette=\"bright\", data = data)\n",
    "plt.title(\"Barplot of Laptop Prices by Touch Screen\")\n",
    "\n",
    "# Rotate x-axis labels to be vertical\n",
    "plt.xticks(rotation=90)\n",
    "\n",
    "# Show the plot\n",
    "plt.show()"
   ]
  },
  {
   "cell_type": "code",
   "execution_count": null,
   "id": "e6e0d9cd-f219-4a5c-9ec6-34dc49786b24",
   "metadata": {},
   "outputs": [],
   "source": [
    "# Plot boxplot\n",
    "sns.barplot(x = 'Touchscreen', y = 'Price_euros', palette=\"bright\", data = data)\n",
    "plt.title(\"Barplot of Laptop Prices by Touch Screen\")\n",
    "\n",
    "# Rotate x-axis labels to be vertical\n",
    "plt.xticks(rotation=90)\n",
    "\n",
    "# Show the plot\n",
    "plt.show()"
   ]
  },
  {
   "cell_type": "code",
   "execution_count": null,
   "id": "96876330-1e7c-481a-880d-b53eabc7f869",
   "metadata": {},
   "outputs": [],
   "source": [
    "# Plot boxplot\n",
    "sns.barplot(x=\"PrimaryStorage\", y=\"Price_euros\", data=data, palette=\"bright\", hue = 'SecondaryStorage')\n",
    "plt.title(\"Barplot of Laptop Prices by PrimaryStorage\")\n",
    "\n",
    "# Rotate x-axis labels to be vertical\n",
    "plt.xticks(rotation=90)\n",
    "\n",
    "# Show the plot\n",
    "plt.show()"
   ]
  },
  {
   "cell_type": "code",
   "execution_count": null,
   "id": "4d59042e-ccf0-4b96-b79d-f3903bb3f1ec",
   "metadata": {},
   "outputs": [],
   "source": [
    "# Plot boxplot\n",
    "sns.barplot(x=\"RetinaDisplay\", y=\"Price_euros\", data=data, palette=\"bright\", hue = 'PrimaryStorage')\n",
    "plt.title(\"Barplot of Laptop Prices by Retina Display\")\n",
    "\n",
    "# Rotate x-axis labels to be vertical\n",
    "plt.xticks(rotation=90)\n",
    "\n",
    "# Show the plot\n",
    "plt.show()"
   ]
  },
  {
   "cell_type": "code",
   "execution_count": null,
   "id": "c9a2c8a3-b850-4114-b5a7-d5f4bfb002b4",
   "metadata": {},
   "outputs": [],
   "source": [
    " sns.scatterplot(data = data , x= 'CPU_freq', y = 'Ram', hue = 'OS')"
   ]
  },
  {
   "cell_type": "code",
   "execution_count": null,
   "id": "e7619290-f164-4e2a-bb39-eba7296d161c",
   "metadata": {},
   "outputs": [],
   "source": [
    " sns.scatterplot(data = data , x= np.log(data['Weight']), y = np.log(data['Price_euros']), hue = 'OS')"
   ]
  },
  {
   "cell_type": "code",
   "execution_count": null,
   "id": "8c09f335-0c67-43e8-8803-4c93e7e68b77",
   "metadata": {},
   "outputs": [],
   "source": [
    "sns.displot(data['Price_euros'])"
   ]
  },
  {
   "cell_type": "code",
   "execution_count": null,
   "id": "02961e09-98bf-4176-b433-ca8b66348df5",
   "metadata": {},
   "outputs": [],
   "source": [
    "sns.displot(x= np.log(data['Price_euros']))"
   ]
  },
  {
   "cell_type": "code",
   "execution_count": null,
   "id": "4f3deebd-8e2a-4571-88b5-554de263a845",
   "metadata": {
    "scrolled": true
   },
   "outputs": [],
   "source": [
    "# sns.pairplot(data)"
   ]
  },
  {
   "cell_type": "markdown",
   "id": "ed0715dc-9871-4b2c-9865-32c176a8a627",
   "metadata": {},
   "source": [
    "## Define features and target"
   ]
  },
  {
   "cell_type": "code",
   "execution_count": null,
   "id": "8082110c-29b3-418f-9b05-9d0612e60db5",
   "metadata": {},
   "outputs": [],
   "source": [
    "X = data.drop('Price_euros', axis=1)\n",
    "y = np.log(data['Price_euros'])"
   ]
  },
  {
   "cell_type": "markdown",
   "id": "6a4e3fb1-ebb6-414b-888d-a64c9880b219",
   "metadata": {},
   "source": [
    "## Identify categorical and numerical columns"
   ]
  },
  {
   "cell_type": "code",
   "execution_count": null,
   "id": "761ee39a-9e5b-47a4-87b3-869089a9991d",
   "metadata": {},
   "outputs": [],
   "source": [
    "categorical_cols = X.select_dtypes(include=['object']).columns\n",
    "categorical_cols"
   ]
  },
  {
   "cell_type": "code",
   "execution_count": null,
   "id": "3159f3d2-ff24-491e-aed1-52277e0bf468",
   "metadata": {},
   "outputs": [],
   "source": [
    "numerical_cols = X.select_dtypes(include=['float64', 'int64', 'int32']).columns\n",
    "numerical_cols"
   ]
  },
  {
   "cell_type": "markdown",
   "id": "e45889da-faad-47b0-bf5e-2a3f1e5b6332",
   "metadata": {},
   "source": [
    "## Split the data"
   ]
  },
  {
   "cell_type": "code",
   "execution_count": null,
   "id": "f3bb3432-aedf-4269-a750-1ba3412270b7",
   "metadata": {},
   "outputs": [],
   "source": [
    "X_train, X_test, y_train, y_test = train_test_split(X, y, test_size=0.2, random_state=42)"
   ]
  },
  {
   "cell_type": "markdown",
   "id": "3504443b-8bb3-41e4-96e6-37f5f0ee36f3",
   "metadata": {},
   "source": [
    "## Encoding for categorical features and Preprocessing pipelines"
   ]
  },
  {
   "cell_type": "code",
   "execution_count": null,
   "id": "be1bdf76-54da-4eef-9a7f-46443f32bdd6",
   "metadata": {},
   "outputs": [],
   "source": [
    "preprocessor = ColumnTransformer(\n",
    "    transformers=[        \n",
    "        ('cat', OneHotEncoder(drop = 'first', handle_unknown= 'ignore'), ['Company', 'Product', 'TypeName', 'OS', 'Screen', \n",
    "                                                                          'Touchscreen', 'IPSpanel', 'RetinaDisplay', \n",
    "                                                                          'CPU_company', 'CPU_model', 'PrimaryStorageType', \n",
    "                                                                          'SecondaryStorageType', 'GPU_company', 'GPU_model']),\n",
    "        # ('num', StandardScaler(), ['Inches', 'Ram', 'Weight', 'ScreenW', 'ScreenH', 'CPU_freq', 'PrimaryStorage',\n",
    "        #                           'SecondaryStorage'])\n",
    "    ], remainder = 'passthrough')\n",
    "\n",
    "regressor = LinearRegression()\n",
    "\n",
    "pipe_reg = Pipeline([\n",
    "    ('preprocessor', preprocessor),\n",
    "    ('regressor', regressor)\n",
    "])\n",
    "\n",
    "# Train the Model\n",
    "pipe_reg.fit(X_train, y_train)\n",
    "\n",
    "y_pred_reg = pipe_reg.predict(X_test)\n",
    "\n",
    "# Evaluate the test model\n",
    "mse_test_reg = mean_squared_error(y_test, y_pred_reg)\n",
    "r2_test_reg = r2_score(y_test, y_pred_reg)\n",
    "\n",
    "print(f\"Mean Squared Error Test data: {mse_test_reg}\")\n",
    "print(f\"R-squared Test data: {r2_test_reg}\")"
   ]
  },
  {
   "cell_type": "markdown",
   "id": "d5416208-4cf1-4312-95f7-72961f0e194c",
   "metadata": {},
   "source": [
    "## Ridge Regression"
   ]
  },
  {
   "cell_type": "code",
   "execution_count": null,
   "id": "ad9ff792-844f-4035-a07e-56c6e77a7e6f",
   "metadata": {},
   "outputs": [],
   "source": [
    "rid_prepro = ColumnTransformer(\n",
    "    transformers=[        \n",
    "        ('cat', OneHotEncoder(drop = 'first', handle_unknown= 'ignore'), ['Company', 'Product', 'TypeName', 'OS', 'Screen', \n",
    "                                                                          'Touchscreen', 'IPSpanel', 'RetinaDisplay', \n",
    "                                                                          'CPU_company', 'CPU_model', 'PrimaryStorageType', \n",
    "                                                                          'SecondaryStorageType', 'GPU_company', 'GPU_model']),\n",
    "        ('num', StandardScaler(), ['Inches', 'Ram', 'Weight', 'ScreenW', 'ScreenH', 'CPU_freq', 'PrimaryStorage',\n",
    "                                  'SecondaryStorage'])\n",
    "    ], remainder = 'passthrough')\n",
    "\n",
    "rid_reg = Ridge(alpha=0.9)\n",
    "\n",
    "pipe_rid = Pipeline([\n",
    "    ('rid_prepro', rid_prepro),\n",
    "    ('rid_reg', rid_reg)\n",
    "])\n",
    "\n",
    "# Train the Model\n",
    "pipe_rid.fit(X_train, y_train)\n",
    "\n",
    "y_pred_rid = pipe_rid.predict(X_test)\n",
    "\n",
    "# Evaluate the test model\n",
    "mse_test_rid = mean_squared_error(y_test, y_pred_rid)\n",
    "r2_test_rid = r2_score(y_test, y_pred_rid)\n",
    "\n",
    "print(f\"Mean Squared Error Test data: {mse_test_rid}\")\n",
    "print(f\"R-squared Test data: {r2_test_rid}\")"
   ]
  },
  {
   "cell_type": "code",
   "execution_count": null,
   "id": "a80147c0-8a37-409f-96e3-4b1718425771",
   "metadata": {},
   "outputs": [],
   "source": [
    "# Visualize test results\n",
    "sns.jointplot(x = y_test, y= y_pred_rid, kind=\"reg\")\n",
    "plt.xlabel(\"Actual Prices of Test data\")\n",
    "plt.ylabel(\"Predicted Prices of Test data\")\n",
    "plt.show()"
   ]
  },
  {
   "cell_type": "markdown",
   "id": "dfa606ef-b76a-43eb-8db1-801240a21751",
   "metadata": {},
   "source": [
    "## Lasso Regression"
   ]
  },
  {
   "cell_type": "code",
   "execution_count": null,
   "id": "aa8010cb-c368-45fc-92bd-84195995e79b",
   "metadata": {},
   "outputs": [],
   "source": [
    "las_prepro = ColumnTransformer(\n",
    "    transformers=[\n",
    "        ('num', StandardScaler(), ['Inches', 'Ram', 'Weight', 'ScreenW', 'ScreenH', 'CPU_freq', 'PrimaryStorage',\n",
    "                                   'SecondaryStorage']),\n",
    "        ('cat', OneHotEncoder(drop = 'first', handle_unknown= 'ignore'), ['Company', 'Product', 'TypeName', 'OS', 'Screen', \n",
    "                                                                          'Touchscreen', 'IPSpanel', 'RetinaDisplay', \n",
    "                                                                          'CPU_company', 'CPU_model', 'PrimaryStorageType', \n",
    "                                                                          'SecondaryStorageType', 'GPU_company', 'GPU_model'])    \n",
    "    ], remainder = 'passthrough')\n",
    "\n",
    "las_reg = Lasso(alpha=0.0001)\n",
    "\n",
    "pipe_las = Pipeline([\n",
    "    ('las_prepro', las_prepro),\n",
    "    ('las_reg', las_reg)\n",
    "])\n",
    "\n",
    "# Train the Model\n",
    "pipe_las.fit(X_train, y_train)\n",
    "\n",
    "y_pred_las = pipe_las.predict(X_test)\n",
    "\n",
    "# Evaluate the test model\n",
    "mse_test_las = mean_squared_error(y_test, y_pred_las)\n",
    "r2_test_las = r2_score(y_test, y_pred_las)\n",
    "\n",
    "print(f\"Mean Squared Error Test data: {mse_test_las}\")\n",
    "print(f\"R-squared Test data: {r2_test_las}\")"
   ]
  },
  {
   "cell_type": "markdown",
   "id": "bb437d4d-e325-48e2-b104-06e9074662eb",
   "metadata": {},
   "source": [
    "##  KNeighbors Regressor"
   ]
  },
  {
   "cell_type": "code",
   "execution_count": null,
   "id": "8a4c634f-817e-4bc5-9f68-888c570e8406",
   "metadata": {},
   "outputs": [],
   "source": [
    "knn_prepro = ColumnTransformer(\n",
    "    transformers=[\n",
    "        ('num', StandardScaler(), ['Inches', 'Ram', 'Weight', 'ScreenW', 'ScreenH', 'CPU_freq', 'PrimaryStorage',\n",
    "                                   'SecondaryStorage']),\n",
    "        ('cat', OneHotEncoder(drop = 'first', handle_unknown= 'ignore'), ['Company', 'Product', 'TypeName', 'OS', 'Screen', \n",
    "                                                                          'Touchscreen', 'IPSpanel', 'RetinaDisplay', \n",
    "                                                                          'CPU_company', 'CPU_model', 'PrimaryStorageType', \n",
    "                                                                          'SecondaryStorageType', 'GPU_company', 'GPU_model'])    \n",
    "    ], remainder = 'passthrough')\n",
    "\n",
    "knn = KNeighborsRegressor(n_neighbors=5)\n",
    "\n",
    "pipe_knn = Pipeline([\n",
    "    ('knn_prepro', knn_prepro),\n",
    "    ('knn', knn)\n",
    "])\n",
    "\n",
    "# Train the Model\n",
    "pipe_knn.fit(X_train, y_train)\n",
    "\n",
    "y_pred_knn = pipe_knn.predict(X_test)\n",
    "\n",
    "# Evaluate the test model\n",
    "mse_test_knn = mean_squared_error(y_test, y_pred_knn)\n",
    "r2_test_knn = r2_score(y_test, y_pred_knn)\n",
    "\n",
    "print(f\"Mean Squared Error Test data: {mse_test_knn}\")\n",
    "print(f\"R-squared Test data: {r2_test_knn}\")"
   ]
  },
  {
   "cell_type": "markdown",
   "id": "903fd0ff-d030-4617-a823-0907132fe7a7",
   "metadata": {},
   "source": [
    "## Decision Tree Regressor"
   ]
  },
  {
   "cell_type": "code",
   "execution_count": null,
   "id": "ca85a7f1-1324-45e0-9bbe-3cb4747ff776",
   "metadata": {},
   "outputs": [],
   "source": [
    "dtr_prepro = ColumnTransformer(\n",
    "    transformers=[\n",
    "        ('num', StandardScaler(), ['Inches', 'Ram', 'Weight', 'ScreenW', 'ScreenH', 'CPU_freq', 'PrimaryStorage',\n",
    "                                   'SecondaryStorage']),\n",
    "        ('cat', OneHotEncoder(drop = 'first', handle_unknown= 'ignore'), ['Company', 'Product', 'TypeName', 'OS', 'Screen', \n",
    "                                                                          'Touchscreen', 'IPSpanel', 'RetinaDisplay', \n",
    "                                                                          'CPU_company', 'CPU_model', 'PrimaryStorageType', \n",
    "                                                                          'SecondaryStorageType', 'GPU_company', 'GPU_model'])    \n",
    "    ], remainder = 'passthrough')\n",
    "\n",
    "dtr = DecisionTreeRegressor(max_depth=12, min_samples_split=12, max_features=0.8, random_state=5)\n",
    "\n",
    "pipe_dtr = Pipeline([\n",
    "    ('dtr_prepro', dtr_prepro),\n",
    "    ('dtr', dtr)\n",
    "])\n",
    "\n",
    "# Train the Model\n",
    "pipe_dtr.fit(X_train, y_train)\n",
    "\n",
    "y_pred_dtr = pipe_dtr.predict(X_test)\n",
    "\n",
    "# Evaluate the test model\n",
    "mse_test_dtr = mean_squared_error(y_test, y_pred_dtr)\n",
    "r2_test_dtr = r2_score(y_test, y_pred_dtr)\n",
    "\n",
    "print(f\"Mean Squared Error Test data: {mse_test_dtr}\")\n",
    "print(f\"R-squared Test data: {r2_test_dtr}\")"
   ]
  },
  {
   "cell_type": "markdown",
   "id": "2572dde0-5012-4b54-8a1a-2ea71113c623",
   "metadata": {},
   "source": [
    "## Random Forest Regressor"
   ]
  },
  {
   "cell_type": "code",
   "execution_count": null,
   "id": "da31f0f3-39c3-42fa-b42d-104bd77f09a0",
   "metadata": {},
   "outputs": [],
   "source": [
    "rfr_prepro = ColumnTransformer(\n",
    "    transformers=[\n",
    "        ('num', StandardScaler(), ['Inches', 'Ram', 'Weight', 'ScreenW', 'ScreenH', 'CPU_freq', 'PrimaryStorage',\n",
    "                                   'SecondaryStorage']),\n",
    "        ('cat', OneHotEncoder(drop = 'first', handle_unknown= 'ignore'), ['Company', 'Product', 'TypeName', 'OS', 'Screen', \n",
    "                                                                          'Touchscreen', 'IPSpanel', 'RetinaDisplay', \n",
    "                                                                          'CPU_company', 'CPU_model', 'PrimaryStorageType', \n",
    "                                                                          'SecondaryStorageType', 'GPU_company', 'GPU_model'])    \n",
    "    ], remainder = 'passthrough')\n",
    "\n",
    "rfr = RandomForestRegressor(n_estimators = 100 ,max_features=0.5, max_depth=15, max_samples=0.7, random_state=3)\n",
    "\n",
    "pipe_rfr = Pipeline([\n",
    "    ('rfr_prepro', rfr_prepro),\n",
    "    ('rfr', rfr)\n",
    "])\n",
    "\n",
    "# Train the Model\n",
    "pipe_rfr.fit(X_train, y_train)\n",
    "\n",
    "y_pred_rfr = pipe_rfr.predict(X_test)\n",
    "\n",
    "# Evaluate the test model\n",
    "mse_test_rfr = mean_squared_error(y_test, y_pred_rfr)\n",
    "r2_test_rfr = r2_score(y_test, y_pred_rfr)\n",
    "\n",
    "print(f\"Mean Squared Error Test data: {mse_test_rfr}\")\n",
    "print(f\"R-squared Test data: {r2_test_rfr}\")"
   ]
  },
  {
   "cell_type": "markdown",
   "id": "4bb900e5-0d7e-4d1a-9e55-f82764d141a0",
   "metadata": {},
   "source": [
    "## AdaBoost Regressor"
   ]
  },
  {
   "cell_type": "code",
   "execution_count": null,
   "id": "9c6e6023-298c-4841-9c89-1a4a17246e3e",
   "metadata": {},
   "outputs": [],
   "source": [
    "ab_prepro = ColumnTransformer(\n",
    "    transformers=[\n",
    "        ('num', StandardScaler(), ['Inches', 'Ram', 'Weight', 'ScreenW', 'ScreenH', 'CPU_freq', 'PrimaryStorage',\n",
    "                                   'SecondaryStorage']),\n",
    "        ('cat', OneHotEncoder(drop = 'first', handle_unknown= 'ignore'), ['Company', 'Product', 'TypeName', 'OS', 'Screen', \n",
    "                                                                          'Touchscreen', 'IPSpanel', 'RetinaDisplay', \n",
    "                                                                          'CPU_company', 'CPU_model', 'PrimaryStorageType', \n",
    "                                                                          'SecondaryStorageType', 'GPU_company', 'GPU_model'])    \n",
    "    ], remainder = 'passthrough')\n",
    "\n",
    "ab_regg = AdaBoostRegressor(n_estimators =500, learning_rate=0.9, random_state=3)\n",
    "\n",
    "pipe_ab = Pipeline([\n",
    "    ('ab_prepro', ab_prepro),\n",
    "    ('ab_regg', ab_regg)\n",
    "])\n",
    "\n",
    "# Train the Model\n",
    "pipe_ab.fit(X_train, y_train)\n",
    "\n",
    "y_pred_ab = pipe_ab.predict(X_test)\n",
    "\n",
    "# Evaluate the test model\n",
    "mse_test_ab = mean_squared_error(y_test, y_pred_ab)\n",
    "r2_test_ab = r2_score(y_test, y_pred_ab)\n",
    "\n",
    "print(f\"Mean Squared Error Test data: {mse_test_ab}\")\n",
    "print(f\"R-squared Test data: {r2_test_ab}\")"
   ]
  },
  {
   "cell_type": "markdown",
   "id": "398c0690-eef8-484c-a804-077df83df37b",
   "metadata": {},
   "source": [
    "## Gradient Boosting Regressor"
   ]
  },
  {
   "cell_type": "code",
   "execution_count": null,
   "id": "e9a4fc14-965d-4f9f-ab95-43a5f15cb743",
   "metadata": {},
   "outputs": [],
   "source": [
    "gbr_prepro = ColumnTransformer(\n",
    "    transformers=[\n",
    "        ('num', StandardScaler(), ['Inches', 'Ram', 'Weight', 'ScreenW', 'ScreenH', 'CPU_freq', 'PrimaryStorage',\n",
    "                                   'SecondaryStorage']),\n",
    "        ('cat', OneHotEncoder(drop = 'first', handle_unknown= 'ignore'), ['Company', 'Product', 'TypeName', 'OS', 'Screen', \n",
    "                                                                          'Touchscreen', 'IPSpanel', 'RetinaDisplay', \n",
    "                                                                          'CPU_company', 'CPU_model', 'PrimaryStorageType', \n",
    "                                                                          'SecondaryStorageType', 'GPU_company', 'GPU_model'])    \n",
    "    ], remainder = 'passthrough')\n",
    "\n",
    "gb_regg = GradientBoostingRegressor(n_estimators = 1000, random_state=3, alpha=0.1)\n",
    "\n",
    "pipe_gb = Pipeline([\n",
    "    ('gbr_prepro', gbr_prepro),\n",
    "    ('gb_regg', gb_regg)\n",
    "])\n",
    "\n",
    "# Train the Model\n",
    "pipe_gb.fit(X_train, y_train)\n",
    "\n",
    "y_pred_gb = pipe_gb.predict(X_test)\n",
    "\n",
    "# Evaluate the test model\n",
    "mse_test_gb = mean_squared_error(y_test, y_pred_gb)\n",
    "r2_test_gb = r2_score(y_test, y_pred_gb)\n",
    "\n",
    "print(f\"Mean Squared Error Test data: {mse_test_gb}\")\n",
    "print(f\"R-squared Test data: {r2_test_gb}\")"
   ]
  },
  {
   "cell_type": "markdown",
   "id": "25c713f2-aca3-4e75-9d8e-33a33ef8a7d8",
   "metadata": {},
   "source": [
    "## XGBoost"
   ]
  },
  {
   "cell_type": "code",
   "execution_count": null,
   "id": "90de6e5d-8d5b-406b-bf09-dd29f9e691da",
   "metadata": {},
   "outputs": [],
   "source": [
    "xgb_prepro = ColumnTransformer(\n",
    "    transformers=[\n",
    "        ('num', StandardScaler(), ['Inches', 'Ram', 'Weight', 'ScreenW', 'ScreenH', 'CPU_freq', 'PrimaryStorage',\n",
    "                                   'SecondaryStorage']),\n",
    "        ('cat', OneHotEncoder(drop = 'first', handle_unknown= 'ignore'), ['Company', 'Product', 'TypeName', 'OS', 'Screen', \n",
    "                                                                          'Touchscreen', 'IPSpanel', 'RetinaDisplay', \n",
    "                                                                          'CPU_company', 'CPU_model', 'PrimaryStorageType', \n",
    "                                                                          'SecondaryStorageType', 'GPU_company', 'GPU_model'])    \n",
    "    ], remainder = 'passthrough')\n",
    "\n",
    "xgb_regg = XGBRegressor(n_estimators = 100, learning_rate=0.9, max_depth=10, random_state=3)\n",
    "\n",
    "pipe_xgb = Pipeline([\n",
    "    ('xgb_prepro', xgb_prepro),\n",
    "    ('xgb_regg', xgb_regg)\n",
    "])\n",
    "\n",
    "# Train the Model\n",
    "pipe_xgb.fit(X_train, y_train)\n",
    "\n",
    "y_pred_xgb = pipe_xgb.predict(X_test)\n",
    "\n",
    "# Evaluate the test model\n",
    "mse_test_xgb = mean_squared_error(y_test, y_pred_xgb)\n",
    "r2_test_xgb = r2_score(y_test, y_pred_xgb)\n",
    "\n",
    "print(f\"Mean Squared Error Test data: {mse_test_xgb}\")\n",
    "print(f\"R-squared Test data: {r2_test_xgb}\")"
   ]
  },
  {
   "cell_type": "markdown",
   "id": "93643ea6-b116-493c-b100-724cc1005052",
   "metadata": {},
   "source": [
    "## Exporting the Model"
   ]
  },
  {
   "cell_type": "code",
   "execution_count": null,
   "id": "15e131d2-c8c0-45a5-93d0-af84b1dd4019",
   "metadata": {},
   "outputs": [],
   "source": [
    "import pickle\n",
    "\n",
    "# pickle.dump(pipe_rid,open('model.pkl','wb'))\n",
    "\n",
    "# Streamlit-notworking\n",
    "pickle.dump(data,open('data.pkl','wb'))\n",
    "pickle.dump(pipe_rid,open('pipe.pkl','wb'))"
   ]
  },
  {
   "cell_type": "code",
   "execution_count": null,
   "id": "a1a2b562-b813-4269-acf2-ed3b7db74141",
   "metadata": {},
   "outputs": [],
   "source": []
  }
 ],
 "metadata": {
  "kernelspec": {
   "display_name": "Python 3 (ipykernel)",
   "language": "python",
   "name": "python3"
  },
  "language_info": {
   "codemirror_mode": {
    "name": "ipython",
    "version": 3
   },
   "file_extension": ".py",
   "mimetype": "text/x-python",
   "name": "python",
   "nbconvert_exporter": "python",
   "pygments_lexer": "ipython3",
   "version": "3.12.7"
  }
 },
 "nbformat": 4,
 "nbformat_minor": 5
}
